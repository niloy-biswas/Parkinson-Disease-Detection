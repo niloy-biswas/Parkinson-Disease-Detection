{
 "cells": [
  {
   "cell_type": "code",
   "execution_count": 3,
   "metadata": {
    "_cell_guid": "b1076dfc-b9ad-4769-8c92-a6c4dae69d19",
    "_uuid": "8f2839f25d086af736a60e9eeb907d3b93b6e0e5",
    "execution": {
     "iopub.execute_input": "2020-08-23T11:13:47.456030Z",
     "iopub.status.busy": "2020-08-23T11:13:47.455167Z",
     "iopub.status.idle": "2020-08-23T11:13:47.465007Z",
     "shell.execute_reply": "2020-08-23T11:13:47.465686Z"
    },
    "papermill": {
     "duration": 0.034619,
     "end_time": "2020-08-23T11:13:47.465896",
     "exception": false,
     "start_time": "2020-08-23T11:13:47.431277",
     "status": "completed"
    },
    "tags": []
   },
   "outputs": [],
   "source": [
    "import numpy as np\n",
    "import pandas as pd\n",
    "import seaborn as sns\n",
    "import matplotlib.pyplot as plt"
   ]
  },
  {
   "cell_type": "code",
   "execution_count": 2,
   "metadata": {
    "_cell_guid": "79c7e3d0-c299-4dcb-8224-4455121ee9b0",
    "_uuid": "d629ff2d2480ee46fbb7e2d37f6b5fab8052498a",
    "execution": {
     "iopub.execute_input": "2020-08-23T11:13:47.503681Z",
     "iopub.status.busy": "2020-08-23T11:13:47.503025Z",
     "iopub.status.idle": "2020-08-23T11:13:47.556348Z",
     "shell.execute_reply": "2020-08-23T11:13:47.555468Z"
    },
    "papermill": {
     "duration": 0.073706,
     "end_time": "2020-08-23T11:13:47.556496",
     "exception": false,
     "start_time": "2020-08-23T11:13:47.482790",
     "status": "completed"
    },
    "tags": []
   },
   "outputs": [
    {
     "data": {
      "text/html": [
       "<div>\n",
       "<style scoped>\n",
       "    .dataframe tbody tr th:only-of-type {\n",
       "        vertical-align: middle;\n",
       "    }\n",
       "\n",
       "    .dataframe tbody tr th {\n",
       "        vertical-align: top;\n",
       "    }\n",
       "\n",
       "    .dataframe thead th {\n",
       "        text-align: right;\n",
       "    }\n",
       "</style>\n",
       "<table border=\"1\" class=\"dataframe\">\n",
       "  <thead>\n",
       "    <tr style=\"text-align: right;\">\n",
       "      <th></th>\n",
       "      <th>name</th>\n",
       "      <th>MDVP:Fo(Hz)</th>\n",
       "      <th>MDVP:Fhi(Hz)</th>\n",
       "      <th>MDVP:Flo(Hz)</th>\n",
       "      <th>MDVP:Jitter(%)</th>\n",
       "      <th>MDVP:Jitter(Abs)</th>\n",
       "      <th>MDVP:RAP</th>\n",
       "      <th>MDVP:PPQ</th>\n",
       "      <th>Jitter:DDP</th>\n",
       "      <th>MDVP:Shimmer</th>\n",
       "      <th>...</th>\n",
       "      <th>Shimmer:DDA</th>\n",
       "      <th>NHR</th>\n",
       "      <th>HNR</th>\n",
       "      <th>status</th>\n",
       "      <th>RPDE</th>\n",
       "      <th>DFA</th>\n",
       "      <th>spread1</th>\n",
       "      <th>spread2</th>\n",
       "      <th>D2</th>\n",
       "      <th>PPE</th>\n",
       "    </tr>\n",
       "  </thead>\n",
       "  <tbody>\n",
       "    <tr>\n",
       "      <th>0</th>\n",
       "      <td>phon_R01_S01_1</td>\n",
       "      <td>119.992</td>\n",
       "      <td>157.302</td>\n",
       "      <td>74.997</td>\n",
       "      <td>0.00784</td>\n",
       "      <td>0.00007</td>\n",
       "      <td>0.00370</td>\n",
       "      <td>0.00554</td>\n",
       "      <td>0.01109</td>\n",
       "      <td>0.04374</td>\n",
       "      <td>...</td>\n",
       "      <td>0.06545</td>\n",
       "      <td>0.02211</td>\n",
       "      <td>21.033</td>\n",
       "      <td>1</td>\n",
       "      <td>0.414783</td>\n",
       "      <td>0.815285</td>\n",
       "      <td>-4.813031</td>\n",
       "      <td>0.266482</td>\n",
       "      <td>2.301442</td>\n",
       "      <td>0.284654</td>\n",
       "    </tr>\n",
       "    <tr>\n",
       "      <th>1</th>\n",
       "      <td>phon_R01_S01_2</td>\n",
       "      <td>122.400</td>\n",
       "      <td>148.650</td>\n",
       "      <td>113.819</td>\n",
       "      <td>0.00968</td>\n",
       "      <td>0.00008</td>\n",
       "      <td>0.00465</td>\n",
       "      <td>0.00696</td>\n",
       "      <td>0.01394</td>\n",
       "      <td>0.06134</td>\n",
       "      <td>...</td>\n",
       "      <td>0.09403</td>\n",
       "      <td>0.01929</td>\n",
       "      <td>19.085</td>\n",
       "      <td>1</td>\n",
       "      <td>0.458359</td>\n",
       "      <td>0.819521</td>\n",
       "      <td>-4.075192</td>\n",
       "      <td>0.335590</td>\n",
       "      <td>2.486855</td>\n",
       "      <td>0.368674</td>\n",
       "    </tr>\n",
       "    <tr>\n",
       "      <th>2</th>\n",
       "      <td>phon_R01_S01_3</td>\n",
       "      <td>116.682</td>\n",
       "      <td>131.111</td>\n",
       "      <td>111.555</td>\n",
       "      <td>0.01050</td>\n",
       "      <td>0.00009</td>\n",
       "      <td>0.00544</td>\n",
       "      <td>0.00781</td>\n",
       "      <td>0.01633</td>\n",
       "      <td>0.05233</td>\n",
       "      <td>...</td>\n",
       "      <td>0.08270</td>\n",
       "      <td>0.01309</td>\n",
       "      <td>20.651</td>\n",
       "      <td>1</td>\n",
       "      <td>0.429895</td>\n",
       "      <td>0.825288</td>\n",
       "      <td>-4.443179</td>\n",
       "      <td>0.311173</td>\n",
       "      <td>2.342259</td>\n",
       "      <td>0.332634</td>\n",
       "    </tr>\n",
       "    <tr>\n",
       "      <th>3</th>\n",
       "      <td>phon_R01_S01_4</td>\n",
       "      <td>116.676</td>\n",
       "      <td>137.871</td>\n",
       "      <td>111.366</td>\n",
       "      <td>0.00997</td>\n",
       "      <td>0.00009</td>\n",
       "      <td>0.00502</td>\n",
       "      <td>0.00698</td>\n",
       "      <td>0.01505</td>\n",
       "      <td>0.05492</td>\n",
       "      <td>...</td>\n",
       "      <td>0.08771</td>\n",
       "      <td>0.01353</td>\n",
       "      <td>20.644</td>\n",
       "      <td>1</td>\n",
       "      <td>0.434969</td>\n",
       "      <td>0.819235</td>\n",
       "      <td>-4.117501</td>\n",
       "      <td>0.334147</td>\n",
       "      <td>2.405554</td>\n",
       "      <td>0.368975</td>\n",
       "    </tr>\n",
       "    <tr>\n",
       "      <th>4</th>\n",
       "      <td>phon_R01_S01_5</td>\n",
       "      <td>116.014</td>\n",
       "      <td>141.781</td>\n",
       "      <td>110.655</td>\n",
       "      <td>0.01284</td>\n",
       "      <td>0.00011</td>\n",
       "      <td>0.00655</td>\n",
       "      <td>0.00908</td>\n",
       "      <td>0.01966</td>\n",
       "      <td>0.06425</td>\n",
       "      <td>...</td>\n",
       "      <td>0.10470</td>\n",
       "      <td>0.01767</td>\n",
       "      <td>19.649</td>\n",
       "      <td>1</td>\n",
       "      <td>0.417356</td>\n",
       "      <td>0.823484</td>\n",
       "      <td>-3.747787</td>\n",
       "      <td>0.234513</td>\n",
       "      <td>2.332180</td>\n",
       "      <td>0.410335</td>\n",
       "    </tr>\n",
       "  </tbody>\n",
       "</table>\n",
       "<p>5 rows × 24 columns</p>\n",
       "</div>"
      ],
      "text/plain": [
       "             name  MDVP:Fo(Hz)  MDVP:Fhi(Hz)  MDVP:Flo(Hz)  MDVP:Jitter(%)  \\\n",
       "0  phon_R01_S01_1      119.992       157.302        74.997         0.00784   \n",
       "1  phon_R01_S01_2      122.400       148.650       113.819         0.00968   \n",
       "2  phon_R01_S01_3      116.682       131.111       111.555         0.01050   \n",
       "3  phon_R01_S01_4      116.676       137.871       111.366         0.00997   \n",
       "4  phon_R01_S01_5      116.014       141.781       110.655         0.01284   \n",
       "\n",
       "   MDVP:Jitter(Abs)  MDVP:RAP  MDVP:PPQ  Jitter:DDP  MDVP:Shimmer  ...  \\\n",
       "0           0.00007   0.00370   0.00554     0.01109       0.04374  ...   \n",
       "1           0.00008   0.00465   0.00696     0.01394       0.06134  ...   \n",
       "2           0.00009   0.00544   0.00781     0.01633       0.05233  ...   \n",
       "3           0.00009   0.00502   0.00698     0.01505       0.05492  ...   \n",
       "4           0.00011   0.00655   0.00908     0.01966       0.06425  ...   \n",
       "\n",
       "   Shimmer:DDA      NHR     HNR  status      RPDE       DFA   spread1  \\\n",
       "0      0.06545  0.02211  21.033       1  0.414783  0.815285 -4.813031   \n",
       "1      0.09403  0.01929  19.085       1  0.458359  0.819521 -4.075192   \n",
       "2      0.08270  0.01309  20.651       1  0.429895  0.825288 -4.443179   \n",
       "3      0.08771  0.01353  20.644       1  0.434969  0.819235 -4.117501   \n",
       "4      0.10470  0.01767  19.649       1  0.417356  0.823484 -3.747787   \n",
       "\n",
       "    spread2        D2       PPE  \n",
       "0  0.266482  2.301442  0.284654  \n",
       "1  0.335590  2.486855  0.368674  \n",
       "2  0.311173  2.342259  0.332634  \n",
       "3  0.334147  2.405554  0.368975  \n",
       "4  0.234513  2.332180  0.410335  \n",
       "\n",
       "[5 rows x 24 columns]"
      ]
     },
     "execution_count": 2,
     "metadata": {},
     "output_type": "execute_result"
    }
   ],
   "source": [
    "df = pd.read_csv(\"parkinsons.data\")\n",
    "df.head(5)"
   ]
  },
  {
   "cell_type": "code",
   "execution_count": 4,
   "metadata": {
    "execution": {
     "iopub.execute_input": "2020-08-23T11:13:47.594330Z",
     "iopub.status.busy": "2020-08-23T11:13:47.593460Z",
     "iopub.status.idle": "2020-08-23T11:13:48.924059Z",
     "shell.execute_reply": "2020-08-23T11:13:48.924934Z"
    },
    "papermill": {
     "duration": 1.353076,
     "end_time": "2020-08-23T11:13:48.925145",
     "exception": false,
     "start_time": "2020-08-23T11:13:47.572069",
     "status": "completed"
    },
    "tags": []
   },
   "outputs": [
    {
     "name": "stdout",
     "output_type": "stream",
     "text": [
      "<class 'pandas.core.frame.DataFrame'>\n",
      "RangeIndex: 195 entries, 0 to 194\n",
      "Data columns (total 24 columns):\n",
      " #   Column            Non-Null Count  Dtype  \n",
      "---  ------            --------------  -----  \n",
      " 0   name              195 non-null    object \n",
      " 1   MDVP:Fo(Hz)       195 non-null    float64\n",
      " 2   MDVP:Fhi(Hz)      195 non-null    float64\n",
      " 3   MDVP:Flo(Hz)      195 non-null    float64\n",
      " 4   MDVP:Jitter(%)    195 non-null    float64\n",
      " 5   MDVP:Jitter(Abs)  195 non-null    float64\n",
      " 6   MDVP:RAP          195 non-null    float64\n",
      " 7   MDVP:PPQ          195 non-null    float64\n",
      " 8   Jitter:DDP        195 non-null    float64\n",
      " 9   MDVP:Shimmer      195 non-null    float64\n",
      " 10  MDVP:Shimmer(dB)  195 non-null    float64\n",
      " 11  Shimmer:APQ3      195 non-null    float64\n",
      " 12  Shimmer:APQ5      195 non-null    float64\n",
      " 13  MDVP:APQ          195 non-null    float64\n",
      " 14  Shimmer:DDA       195 non-null    float64\n",
      " 15  NHR               195 non-null    float64\n",
      " 16  HNR               195 non-null    float64\n",
      " 17  status            195 non-null    int64  \n",
      " 18  RPDE              195 non-null    float64\n",
      " 19  DFA               195 non-null    float64\n",
      " 20  spread1           195 non-null    float64\n",
      " 21  spread2           195 non-null    float64\n",
      " 22  D2                195 non-null    float64\n",
      " 23  PPE               195 non-null    float64\n",
      "dtypes: float64(22), int64(1), object(1)\n",
      "memory usage: 36.7+ KB\n"
     ]
    }
   ],
   "source": [
    "df.info()"
   ]
  },
  {
   "cell_type": "code",
   "execution_count": null,
   "metadata": {
    "execution": {
     "iopub.execute_input": "2020-08-23T11:13:48.979336Z",
     "iopub.status.busy": "2020-08-23T11:13:48.976146Z",
     "iopub.status.idle": "2020-08-23T11:13:48.983972Z",
     "shell.execute_reply": "2020-08-23T11:13:48.983306Z"
    },
    "papermill": {
     "duration": 0.042651,
     "end_time": "2020-08-23T11:13:48.984096",
     "exception": false,
     "start_time": "2020-08-23T11:13:48.941445",
     "status": "completed"
    },
    "tags": []
   },
   "outputs": [],
   "source": []
  },
  {
   "cell_type": "code",
   "execution_count": 5,
   "metadata": {
    "execution": {
     "iopub.execute_input": "2020-08-23T11:13:49.029003Z",
     "iopub.status.busy": "2020-08-23T11:13:49.028203Z",
     "iopub.status.idle": "2020-08-23T11:13:52.925461Z",
     "shell.execute_reply": "2020-08-23T11:13:52.926028Z"
    },
    "papermill": {
     "duration": 3.92534,
     "end_time": "2020-08-23T11:13:52.926193",
     "exception": false,
     "start_time": "2020-08-23T11:13:49.000853",
     "status": "completed"
    },
    "tags": []
   },
   "outputs": [
    {
     "data": {
      "image/png": "[encoded data removed]",
      "text/plain": [
       "<Figure size 1080x1080 with 25 Axes>"
      ]
     },
     "metadata": {
      "needs_background": "light"
     },
     "output_type": "display_data"
    }
   ],
   "source": [
    "fig,axes=plt.subplots(5,5,figsize=(15,15))\n",
    "axes=axes.flatten()\n",
    "\n",
    "for i in range(1,len(df.columns)-1):\n",
    "    sns.boxplot(x='status',y=df.iloc[:,i],data=df,orient='v',ax=axes[i])\n",
    "plt.tight_layout()\n",
    "plt.show()"
   ]
  },
  {
   "cell_type": "code",
   "execution_count": 6,
   "metadata": {
    "execution": {
     "iopub.execute_input": "2020-08-23T11:13:52.980590Z",
     "iopub.status.busy": "2020-08-23T11:13:52.979031Z",
     "iopub.status.idle": "2020-08-23T11:13:52.985546Z",
     "shell.execute_reply": "2020-08-23T11:13:52.986437Z"
    },
    "papermill": {
     "duration": 0.03705,
     "end_time": "2020-08-23T11:13:52.986721",
     "exception": false,
     "start_time": "2020-08-23T11:13:52.949671",
     "status": "completed"
    },
    "tags": []
   },
   "outputs": [
    {
     "data": {
      "text/plain": [
       "1    147\n",
       "0     48\n",
       "Name: status, dtype: int64"
      ]
     },
     "execution_count": 6,
     "metadata": {},
     "output_type": "execute_result"
    }
   ],
   "source": [
    "df.status.value_counts()"
   ]
  },
  {
   "cell_type": "code",
   "execution_count": 7,
   "metadata": {
    "execution": {
     "iopub.execute_input": "2020-08-23T11:13:53.035423Z",
     "iopub.status.busy": "2020-08-23T11:13:53.034293Z",
     "iopub.status.idle": "2020-08-23T11:13:53.038885Z",
     "shell.execute_reply": "2020-08-23T11:13:53.038317Z"
    },
    "papermill": {
     "duration": 0.029084,
     "end_time": "2020-08-23T11:13:53.039010",
     "exception": false,
     "start_time": "2020-08-23T11:13:53.009926",
     "status": "completed"
    },
    "tags": []
   },
   "outputs": [
    {
     "data": {
      "text/plain": [
       "\"for dataset in data_master: \\n    dataset['status'] = dataset['status'].astype(float) \\n\\ndata_master['status'].value_counts()\""
      ]
     },
     "execution_count": 7,
     "metadata": {},
     "output_type": "execute_result"
    }
   ],
   "source": [
    "'''for dataset in data_master: \n",
    "    dataset['status'] = dataset['status'].astype(float) \n",
    "\n",
    "data_master['status'].value_counts()'''"
   ]
  },
  {
   "cell_type": "code",
   "execution_count": 7,
   "metadata": {
    "execution": {
     "iopub.execute_input": "2020-08-23T11:13:53.087666Z",
     "iopub.status.busy": "2020-08-23T11:13:53.086638Z",
     "iopub.status.idle": "2020-08-23T11:13:53.090613Z",
     "shell.execute_reply": "2020-08-23T11:13:53.090004Z"
    },
    "papermill": {
     "duration": 0.030974,
     "end_time": "2020-08-23T11:13:53.090733",
     "exception": false,
     "start_time": "2020-08-23T11:13:53.059759",
     "status": "completed"
    },
    "tags": []
   },
   "outputs": [],
   "source": [
    "X = df.drop(['status', 'name'], axis = 1)\n",
    "y = df.status"
   ]
  },
  {
   "cell_type": "code",
   "execution_count": 8,
   "metadata": {
    "execution": {
     "iopub.execute_input": "2020-08-23T11:13:53.141091Z",
     "iopub.status.busy": "2020-08-23T11:13:53.140209Z",
     "iopub.status.idle": "2020-08-23T11:13:53.285281Z",
     "shell.execute_reply": "2020-08-23T11:13:53.284557Z"
    },
    "papermill": {
     "duration": 0.17398,
     "end_time": "2020-08-23T11:13:53.285409",
     "exception": false,
     "start_time": "2020-08-23T11:13:53.111429",
     "status": "completed"
    },
    "tags": []
   },
   "outputs": [],
   "source": [
    "from sklearn.model_selection import train_test_split\n",
    "\n",
    "X_train, X_test, y_train, y_test = train_test_split(X, y, test_size = 0.3, random_state = 42)"
   ]
  },
  {
   "cell_type": "code",
   "execution_count": 30,
   "metadata": {
    "execution": {
     "iopub.execute_input": "2020-08-23T11:13:53.337117Z",
     "iopub.status.busy": "2020-08-23T11:13:53.335617Z",
     "iopub.status.idle": "2020-08-23T11:13:53.338969Z",
     "shell.execute_reply": "2020-08-23T11:13:53.339593Z"
    },
    "papermill": {
     "duration": 0.034458,
     "end_time": "2020-08-23T11:13:53.339800",
     "exception": false,
     "start_time": "2020-08-23T11:13:53.305342",
     "status": "completed"
    },
    "tags": []
   },
   "outputs": [],
   "source": [
    "from sklearn.metrics import roc_auc_score\n",
    "from sklearn.metrics import confusion_matrix\n",
    "\n",
    "def clf_scores(clf, y_predicted):\n",
    "    # Accuracy\n",
    "    acc_train = print(\"Train Accuraccy is: \", clf.score(X_train, y_train)*100)\n",
    "    acc_test = print(\"Test Accuraccy is: \", clf.score(X_test, y_test)*100)\n",
    "    \n",
    "    roc = print(\"ROC Score: \", roc_auc_score(y_test, y_predicted)*100) \n",
    "    tn, fp, fn, tp = confusion_matrix(y_test, y_predicted).ravel()\n",
    "    print()\n",
    "    cm = (\"Confusion matrix: \", confusion_matrix(y_test, y_predicted))\n",
    "    correct = (\"Total correct: \", tp + tn)\n",
    "    incorrect = (\"Total incorrect: \", fp + fn)\n",
    "    \n",
    "    return acc_train, acc_test, roc, correct, incorrect, cm"
   ]
  },
  {
   "cell_type": "code",
   "execution_count": 31,
   "metadata": {
    "execution": {
     "iopub.execute_input": "2020-08-23T11:13:53.387906Z",
     "iopub.status.busy": "2020-08-23T11:13:53.387189Z",
     "iopub.status.idle": "2020-08-23T11:13:53.557069Z",
     "shell.execute_reply": "2020-08-23T11:13:53.555626Z"
    },
    "papermill": {
     "duration": 0.195655,
     "end_time": "2020-08-23T11:13:53.557270",
     "exception": false,
     "start_time": "2020-08-23T11:13:53.361615",
     "status": "completed"
    },
    "tags": []
   },
   "outputs": [
    {
     "name": "stdout",
     "output_type": "stream",
     "text": [
      "Train Accuraccy is:  89.70588235294117\n",
      "Test Accuraccy is:  83.05084745762711\n",
      "ROC Score:  73.25757575757575\n",
      "\n",
      "(None, None, None, ('Total correct: ', 49), ('Total incorrect: ', 10), ('Confusion matrix: ', array([[ 8,  7],\n",
      "       [ 3, 41]], dtype=int64)))\n"
     ]
    }
   ],
   "source": [
    "#1. Logistic regression\n",
    "\n",
    "from sklearn.linear_model import LogisticRegression\n",
    "clf_lr = LogisticRegression(solver='liblinear')\n",
    "clf_lr.fit(X_train, y_train)\n",
    "\n",
    "Y_pred_lr = clf_lr.predict(X_test)\n",
    "print(clf_scores(clf_lr, Y_pred_lr))"
   ]
  },
  {
   "cell_type": "code",
   "execution_count": 32,
   "metadata": {
    "execution": {
     "iopub.execute_input": "2020-08-23T11:13:53.611719Z",
     "iopub.status.busy": "2020-08-23T11:13:53.610813Z",
     "iopub.status.idle": "2020-08-23T11:13:53.747971Z",
     "shell.execute_reply": "2020-08-23T11:13:53.747290Z"
    },
    "papermill": {
     "duration": 0.168877,
     "end_time": "2020-08-23T11:13:53.748098",
     "exception": false,
     "start_time": "2020-08-23T11:13:53.579221",
     "status": "completed"
    },
    "tags": []
   },
   "outputs": [
    {
     "name": "stdout",
     "output_type": "stream",
     "text": [
      "Train Accuraccy is:  93.38235294117648\n",
      "Test Accuraccy is:  79.66101694915254\n",
      "ROC Score:  73.18181818181819\n",
      "\n",
      "(None, None, None, ('Total correct: ', 47), ('Total incorrect: ', 12), ('Confusion matrix: ', array([[ 9,  6],\n",
      "       [ 6, 38]], dtype=int64)))\n"
     ]
    }
   ],
   "source": [
    "#2. KNN\n",
    "\n",
    "from sklearn.neighbors import KNeighborsClassifier\n",
    "clf_knn = KNeighborsClassifier(n_neighbors=3)\n",
    "clf_knn.fit(X_train, y_train)\n",
    "\n",
    "Y_pred_knn = clf_knn.predict(X_test)\n",
    "print(clf_scores(clf_knn, Y_pred_knn))"
   ]
  },
  {
   "cell_type": "code",
   "execution_count": 33,
   "metadata": {
    "execution": {
     "iopub.execute_input": "2020-08-23T11:13:53.803040Z",
     "iopub.status.busy": "2020-08-23T11:13:53.802362Z",
     "iopub.status.idle": "2020-08-23T11:13:53.830058Z",
     "shell.execute_reply": "2020-08-23T11:13:53.830715Z"
    },
    "papermill": {
     "duration": 0.058428,
     "end_time": "2020-08-23T11:13:53.830911",
     "exception": false,
     "start_time": "2020-08-23T11:13:53.772483",
     "status": "completed"
    },
    "tags": []
   },
   "outputs": [
    {
     "name": "stdout",
     "output_type": "stream",
     "text": [
      "Train Accuraccy is:  68.38235294117648\n",
      "Test Accuraccy is:  74.57627118644068\n",
      "ROC Score:  76.36363636363637\n",
      "\n",
      "(None, None, None, ('Total correct: ', 44), ('Total incorrect: ', 15), ('Confusion matrix: ', array([[12,  3],\n",
      "       [12, 32]], dtype=int64)))\n"
     ]
    }
   ],
   "source": [
    "#3. Naive Bayes\n",
    "\n",
    "from sklearn.naive_bayes import GaussianNB\n",
    "clf_gnb = GaussianNB()\n",
    "clf_gnb.fit(X_train, y_train)\n",
    "\n",
    "Y_pred_gnb = clf_gnb.predict(X_test)\n",
    "print(clf_scores(clf_gnb, Y_pred_gnb))"
   ]
  },
  {
   "cell_type": "code",
   "execution_count": 34,
   "metadata": {
    "execution": {
     "iopub.execute_input": "2020-08-23T11:13:53.893923Z",
     "iopub.status.busy": "2020-08-23T11:13:53.893200Z",
     "iopub.status.idle": "2020-08-23T11:13:53.900707Z",
     "shell.execute_reply": "2020-08-23T11:13:53.900059Z"
    },
    "papermill": {
     "duration": 0.042347,
     "end_time": "2020-08-23T11:13:53.900835",
     "exception": false,
     "start_time": "2020-08-23T11:13:53.858488",
     "status": "completed"
    },
    "tags": []
   },
   "outputs": [
    {
     "data": {
      "text/plain": [
       "Index(['name', 'MDVP:Fo(Hz)', 'MDVP:Fhi(Hz)', 'MDVP:Flo(Hz)', 'MDVP:Jitter(%)',\n",
       "       'MDVP:Jitter(Abs)', 'MDVP:RAP', 'MDVP:PPQ', 'Jitter:DDP',\n",
       "       'MDVP:Shimmer', 'MDVP:Shimmer(dB)', 'Shimmer:APQ3', 'Shimmer:APQ5',\n",
       "       'MDVP:APQ', 'Shimmer:DDA', 'NHR', 'HNR', 'status', 'RPDE', 'DFA',\n",
       "       'spread1', 'spread2', 'D2', 'PPE'],\n",
       "      dtype='object')"
      ]
     },
     "execution_count": 34,
     "metadata": {},
     "output_type": "execute_result"
    }
   ],
   "source": [
    "df.columns"
   ]
  },
  {
   "cell_type": "code",
   "execution_count": 35,
   "metadata": {
    "execution": {
     "iopub.execute_input": "2020-08-23T11:13:53.981837Z",
     "iopub.status.busy": "2020-08-23T11:13:53.962450Z",
     "iopub.status.idle": "2020-08-23T11:13:54.157426Z",
     "shell.execute_reply": "2020-08-23T11:13:54.156685Z"
    },
    "papermill": {
     "duration": 0.232797,
     "end_time": "2020-08-23T11:13:54.157573",
     "exception": false,
     "start_time": "2020-08-23T11:13:53.924776",
     "status": "completed"
    },
    "tags": []
   },
   "outputs": [],
   "source": [
    "#Scaling\n",
    "from sklearn.preprocessing import StandardScaler\n",
    "\n",
    "# copy of datasets\n",
    "X_train_scaled = X_train.copy()\n",
    "X_test_scaled = X_test.copy()\n",
    "\n",
    "# numerical features\n",
    "num_cols = ['MDVP:Fo(Hz)', 'MDVP:Fhi(Hz)', 'MDVP:Flo(Hz)', 'MDVP:Jitter(%)',\n",
    "       'MDVP:Jitter(Abs)', 'MDVP:RAP', 'MDVP:PPQ', 'Jitter:DDP',\n",
    "       'MDVP:Shimmer', 'MDVP:Shimmer(dB)', 'Shimmer:APQ3', 'Shimmer:APQ5',\n",
    "       'MDVP:APQ', 'Shimmer:DDA', 'NHR', 'HNR', 'RPDE', 'DFA',\n",
    "       'spread1', 'spread2', 'D2', 'PPE']\n",
    "\n",
    "# apply standardization on numerical features\n",
    "for i in num_cols:\n",
    "    \n",
    "    # fit on training data column\n",
    "    scale = StandardScaler().fit(X_train_scaled[[i]])\n",
    "    \n",
    "    # transform the training data column\n",
    "    X_train_scaled[i] = scale.transform(X_train_scaled[[i]])\n",
    "    \n",
    "    # transform the testing data column\n",
    "    X_test_scaled[i] = scale.transform(X_test_scaled[[i]])\n"
   ]
  },
  {
   "cell_type": "code",
   "execution_count": 36,
   "metadata": {
    "execution": {
     "iopub.execute_input": "2020-08-23T11:13:54.219081Z",
     "iopub.status.busy": "2020-08-23T11:13:54.216378Z",
     "iopub.status.idle": "2020-08-23T11:13:54.290284Z",
     "shell.execute_reply": "2020-08-23T11:13:54.289692Z"
    },
    "papermill": {
     "duration": 0.110062,
     "end_time": "2020-08-23T11:13:54.290401",
     "exception": false,
     "start_time": "2020-08-23T11:13:54.180339",
     "status": "completed"
    },
    "tags": []
   },
   "outputs": [
    {
     "data": {
      "text/html": [
       "<div>\n",
       "<style scoped>\n",
       "    .dataframe tbody tr th:only-of-type {\n",
       "        vertical-align: middle;\n",
       "    }\n",
       "\n",
       "    .dataframe tbody tr th {\n",
       "        vertical-align: top;\n",
       "    }\n",
       "\n",
       "    .dataframe thead th {\n",
       "        text-align: right;\n",
       "    }\n",
       "</style>\n",
       "<table border=\"1\" class=\"dataframe\">\n",
       "  <thead>\n",
       "    <tr style=\"text-align: right;\">\n",
       "      <th></th>\n",
       "      <th>MDVP:Fo(Hz)</th>\n",
       "      <th>MDVP:Fhi(Hz)</th>\n",
       "      <th>MDVP:Flo(Hz)</th>\n",
       "      <th>MDVP:Jitter(%)</th>\n",
       "      <th>MDVP:Jitter(Abs)</th>\n",
       "      <th>MDVP:RAP</th>\n",
       "      <th>MDVP:PPQ</th>\n",
       "      <th>Jitter:DDP</th>\n",
       "      <th>MDVP:Shimmer</th>\n",
       "      <th>MDVP:Shimmer(dB)</th>\n",
       "      <th>...</th>\n",
       "      <th>MDVP:APQ</th>\n",
       "      <th>Shimmer:DDA</th>\n",
       "      <th>NHR</th>\n",
       "      <th>HNR</th>\n",
       "      <th>RPDE</th>\n",
       "      <th>DFA</th>\n",
       "      <th>spread1</th>\n",
       "      <th>spread2</th>\n",
       "      <th>D2</th>\n",
       "      <th>PPE</th>\n",
       "    </tr>\n",
       "  </thead>\n",
       "  <tbody>\n",
       "    <tr>\n",
       "      <th>count</th>\n",
       "      <td>136.000000</td>\n",
       "      <td>136.000000</td>\n",
       "      <td>136.000000</td>\n",
       "      <td>136.000000</td>\n",
       "      <td>136.000000</td>\n",
       "      <td>136.000000</td>\n",
       "      <td>136.000000</td>\n",
       "      <td>136.000000</td>\n",
       "      <td>136.000000</td>\n",
       "      <td>136.000000</td>\n",
       "      <td>...</td>\n",
       "      <td>136.000000</td>\n",
       "      <td>136.000000</td>\n",
       "      <td>136.000000</td>\n",
       "      <td>136.000000</td>\n",
       "      <td>136.000000</td>\n",
       "      <td>136.000000</td>\n",
       "      <td>136.000000</td>\n",
       "      <td>136.000000</td>\n",
       "      <td>136.000000</td>\n",
       "      <td>136.000000</td>\n",
       "    </tr>\n",
       "    <tr>\n",
       "      <th>mean</th>\n",
       "      <td>152.700846</td>\n",
       "      <td>193.653309</td>\n",
       "      <td>117.140831</td>\n",
       "      <td>0.006347</td>\n",
       "      <td>0.000045</td>\n",
       "      <td>0.003390</td>\n",
       "      <td>0.003549</td>\n",
       "      <td>0.010171</td>\n",
       "      <td>0.030158</td>\n",
       "      <td>0.288353</td>\n",
       "      <td>...</td>\n",
       "      <td>0.024723</td>\n",
       "      <td>0.047441</td>\n",
       "      <td>0.027042</td>\n",
       "      <td>21.883375</td>\n",
       "      <td>0.499209</td>\n",
       "      <td>0.722952</td>\n",
       "      <td>-5.691650</td>\n",
       "      <td>0.227666</td>\n",
       "      <td>2.391407</td>\n",
       "      <td>0.207610</td>\n",
       "    </tr>\n",
       "    <tr>\n",
       "      <th>std</th>\n",
       "      <td>40.456197</td>\n",
       "      <td>90.595334</td>\n",
       "      <td>42.498586</td>\n",
       "      <td>0.005518</td>\n",
       "      <td>0.000039</td>\n",
       "      <td>0.003396</td>\n",
       "      <td>0.003147</td>\n",
       "      <td>0.010189</td>\n",
       "      <td>0.020824</td>\n",
       "      <td>0.217656</td>\n",
       "      <td>...</td>\n",
       "      <td>0.018937</td>\n",
       "      <td>0.033394</td>\n",
       "      <td>0.046202</td>\n",
       "      <td>4.878857</td>\n",
       "      <td>0.102947</td>\n",
       "      <td>0.054509</td>\n",
       "      <td>1.111704</td>\n",
       "      <td>0.081660</td>\n",
       "      <td>0.403006</td>\n",
       "      <td>0.094557</td>\n",
       "    </tr>\n",
       "    <tr>\n",
       "      <th>min</th>\n",
       "      <td>88.333000</td>\n",
       "      <td>102.305000</td>\n",
       "      <td>65.476000</td>\n",
       "      <td>0.001680</td>\n",
       "      <td>0.000007</td>\n",
       "      <td>0.000680</td>\n",
       "      <td>0.000920</td>\n",
       "      <td>0.002040</td>\n",
       "      <td>0.009540</td>\n",
       "      <td>0.085000</td>\n",
       "      <td>...</td>\n",
       "      <td>0.007190</td>\n",
       "      <td>0.013640</td>\n",
       "      <td>0.000650</td>\n",
       "      <td>8.441000</td>\n",
       "      <td>0.256570</td>\n",
       "      <td>0.574282</td>\n",
       "      <td>-7.964984</td>\n",
       "      <td>0.018689</td>\n",
       "      <td>1.423287</td>\n",
       "      <td>0.044539</td>\n",
       "    </tr>\n",
       "    <tr>\n",
       "      <th>25%</th>\n",
       "      <td>117.262000</td>\n",
       "      <td>134.000250</td>\n",
       "      <td>86.216000</td>\n",
       "      <td>0.003318</td>\n",
       "      <td>0.000020</td>\n",
       "      <td>0.001645</td>\n",
       "      <td>0.001828</td>\n",
       "      <td>0.004933</td>\n",
       "      <td>0.015723</td>\n",
       "      <td>0.140750</td>\n",
       "      <td>...</td>\n",
       "      <td>0.012557</td>\n",
       "      <td>0.023352</td>\n",
       "      <td>0.005257</td>\n",
       "      <td>19.082500</td>\n",
       "      <td>0.419943</td>\n",
       "      <td>0.679358</td>\n",
       "      <td>-6.449115</td>\n",
       "      <td>0.178670</td>\n",
       "      <td>2.101139</td>\n",
       "      <td>0.137414</td>\n",
       "    </tr>\n",
       "    <tr>\n",
       "      <th>50%</th>\n",
       "      <td>148.367000</td>\n",
       "      <td>169.299000</td>\n",
       "      <td>105.691000</td>\n",
       "      <td>0.004610</td>\n",
       "      <td>0.000030</td>\n",
       "      <td>0.002320</td>\n",
       "      <td>0.002465</td>\n",
       "      <td>0.006960</td>\n",
       "      <td>0.022110</td>\n",
       "      <td>0.208000</td>\n",
       "      <td>...</td>\n",
       "      <td>0.017645</td>\n",
       "      <td>0.035955</td>\n",
       "      <td>0.011180</td>\n",
       "      <td>22.710000</td>\n",
       "      <td>0.496754</td>\n",
       "      <td>0.729003</td>\n",
       "      <td>-5.818459</td>\n",
       "      <td>0.219660</td>\n",
       "      <td>2.353204</td>\n",
       "      <td>0.186079</td>\n",
       "    </tr>\n",
       "    <tr>\n",
       "      <th>75%</th>\n",
       "      <td>181.028500</td>\n",
       "      <td>217.433000</td>\n",
       "      <td>141.284750</td>\n",
       "      <td>0.007113</td>\n",
       "      <td>0.000060</td>\n",
       "      <td>0.003715</td>\n",
       "      <td>0.003912</td>\n",
       "      <td>0.011140</td>\n",
       "      <td>0.038290</td>\n",
       "      <td>0.364250</td>\n",
       "      <td>...</td>\n",
       "      <td>0.030603</td>\n",
       "      <td>0.061700</td>\n",
       "      <td>0.025135</td>\n",
       "      <td>25.488500</td>\n",
       "      <td>0.594800</td>\n",
       "      <td>0.763455</td>\n",
       "      <td>-5.152385</td>\n",
       "      <td>0.270060</td>\n",
       "      <td>2.642326</td>\n",
       "      <td>0.255108</td>\n",
       "    </tr>\n",
       "    <tr>\n",
       "      <th>max</th>\n",
       "      <td>252.455000</td>\n",
       "      <td>592.030000</td>\n",
       "      <td>239.170000</td>\n",
       "      <td>0.033160</td>\n",
       "      <td>0.000260</td>\n",
       "      <td>0.021440</td>\n",
       "      <td>0.019580</td>\n",
       "      <td>0.064330</td>\n",
       "      <td>0.119080</td>\n",
       "      <td>1.302000</td>\n",
       "      <td>...</td>\n",
       "      <td>0.137780</td>\n",
       "      <td>0.169420</td>\n",
       "      <td>0.314820</td>\n",
       "      <td>33.047000</td>\n",
       "      <td>0.685151</td>\n",
       "      <td>0.825288</td>\n",
       "      <td>-2.434031</td>\n",
       "      <td>0.450493</td>\n",
       "      <td>3.671155</td>\n",
       "      <td>0.527367</td>\n",
       "    </tr>\n",
       "  </tbody>\n",
       "</table>\n",
       "<p>8 rows × 22 columns</p>\n",
       "</div>"
      ],
      "text/plain": [
       "       MDVP:Fo(Hz)  MDVP:Fhi(Hz)  MDVP:Flo(Hz)  MDVP:Jitter(%)  \\\n",
       "count   136.000000    136.000000    136.000000      136.000000   \n",
       "mean    152.700846    193.653309    117.140831        0.006347   \n",
       "std      40.456197     90.595334     42.498586        0.005518   \n",
       "min      88.333000    102.305000     65.476000        0.001680   \n",
       "25%     117.262000    134.000250     86.216000        0.003318   \n",
       "50%     148.367000    169.299000    105.691000        0.004610   \n",
       "75%     181.028500    217.433000    141.284750        0.007113   \n",
       "max     252.455000    592.030000    239.170000        0.033160   \n",
       "\n",
       "       MDVP:Jitter(Abs)    MDVP:RAP    MDVP:PPQ  Jitter:DDP  MDVP:Shimmer  \\\n",
       "count        136.000000  136.000000  136.000000  136.000000    136.000000   \n",
       "mean           0.000045    0.003390    0.003549    0.010171      0.030158   \n",
       "std            0.000039    0.003396    0.003147    0.010189      0.020824   \n",
       "min            0.000007    0.000680    0.000920    0.002040      0.009540   \n",
       "25%            0.000020    0.001645    0.001828    0.004933      0.015723   \n",
       "50%            0.000030    0.002320    0.002465    0.006960      0.022110   \n",
       "75%            0.000060    0.003715    0.003912    0.011140      0.038290   \n",
       "max            0.000260    0.021440    0.019580    0.064330      0.119080   \n",
       "\n",
       "       MDVP:Shimmer(dB)  ...    MDVP:APQ  Shimmer:DDA         NHR         HNR  \\\n",
       "count        136.000000  ...  136.000000   136.000000  136.000000  136.000000   \n",
       "mean           0.288353  ...    0.024723     0.047441    0.027042   21.883375   \n",
       "std            0.217656  ...    0.018937     0.033394    0.046202    4.878857   \n",
       "min            0.085000  ...    0.007190     0.013640    0.000650    8.441000   \n",
       "25%            0.140750  ...    0.012557     0.023352    0.005257   19.082500   \n",
       "50%            0.208000  ...    0.017645     0.035955    0.011180   22.710000   \n",
       "75%            0.364250  ...    0.030603     0.061700    0.025135   25.488500   \n",
       "max            1.302000  ...    0.137780     0.169420    0.314820   33.047000   \n",
       "\n",
       "             RPDE         DFA     spread1     spread2          D2         PPE  \n",
       "count  136.000000  136.000000  136.000000  136.000000  136.000000  136.000000  \n",
       "mean     0.499209    0.722952   -5.691650    0.227666    2.391407    0.207610  \n",
       "std      0.102947    0.054509    1.111704    0.081660    0.403006    0.094557  \n",
       "min      0.256570    0.574282   -7.964984    0.018689    1.423287    0.044539  \n",
       "25%      0.419943    0.679358   -6.449115    0.178670    2.101139    0.137414  \n",
       "50%      0.496754    0.729003   -5.818459    0.219660    2.353204    0.186079  \n",
       "75%      0.594800    0.763455   -5.152385    0.270060    2.642326    0.255108  \n",
       "max      0.685151    0.825288   -2.434031    0.450493    3.671155    0.527367  \n",
       "\n",
       "[8 rows x 22 columns]"
      ]
     },
     "execution_count": 36,
     "metadata": {},
     "output_type": "execute_result"
    }
   ],
   "source": [
    "X_train.describe()"
   ]
  },
  {
   "cell_type": "code",
   "execution_count": 37,
   "metadata": {
    "execution": {
     "iopub.execute_input": "2020-08-23T11:13:54.349795Z",
     "iopub.status.busy": "2020-08-23T11:13:54.347339Z",
     "iopub.status.idle": "2020-08-23T11:13:54.431808Z",
     "shell.execute_reply": "2020-08-23T11:13:54.431101Z"
    },
    "papermill": {
     "duration": 0.116019,
     "end_time": "2020-08-23T11:13:54.431939",
     "exception": false,
     "start_time": "2020-08-23T11:13:54.315920",
     "status": "completed"
    },
    "tags": []
   },
   "outputs": [
    {
     "data": {
      "text/html": [
       "<div>\n",
       "<style scoped>\n",
       "    .dataframe tbody tr th:only-of-type {\n",
       "        vertical-align: middle;\n",
       "    }\n",
       "\n",
       "    .dataframe tbody tr th {\n",
       "        vertical-align: top;\n",
       "    }\n",
       "\n",
       "    .dataframe thead th {\n",
       "        text-align: right;\n",
       "    }\n",
       "</style>\n",
       "<table border=\"1\" class=\"dataframe\">\n",
       "  <thead>\n",
       "    <tr style=\"text-align: right;\">\n",
       "      <th></th>\n",
       "      <th>MDVP:Fo(Hz)</th>\n",
       "      <th>MDVP:Fhi(Hz)</th>\n",
       "      <th>MDVP:Flo(Hz)</th>\n",
       "      <th>MDVP:Jitter(%)</th>\n",
       "      <th>MDVP:Jitter(Abs)</th>\n",
       "      <th>MDVP:RAP</th>\n",
       "      <th>MDVP:PPQ</th>\n",
       "      <th>Jitter:DDP</th>\n",
       "      <th>MDVP:Shimmer</th>\n",
       "      <th>MDVP:Shimmer(dB)</th>\n",
       "      <th>...</th>\n",
       "      <th>MDVP:APQ</th>\n",
       "      <th>Shimmer:DDA</th>\n",
       "      <th>NHR</th>\n",
       "      <th>HNR</th>\n",
       "      <th>RPDE</th>\n",
       "      <th>DFA</th>\n",
       "      <th>spread1</th>\n",
       "      <th>spread2</th>\n",
       "      <th>D2</th>\n",
       "      <th>PPE</th>\n",
       "    </tr>\n",
       "  </thead>\n",
       "  <tbody>\n",
       "    <tr>\n",
       "      <th>count</th>\n",
       "      <td>1.360000e+02</td>\n",
       "      <td>1.360000e+02</td>\n",
       "      <td>1.360000e+02</td>\n",
       "      <td>1.360000e+02</td>\n",
       "      <td>1.360000e+02</td>\n",
       "      <td>1.360000e+02</td>\n",
       "      <td>1.360000e+02</td>\n",
       "      <td>1.360000e+02</td>\n",
       "      <td>1.360000e+02</td>\n",
       "      <td>1.360000e+02</td>\n",
       "      <td>...</td>\n",
       "      <td>1.360000e+02</td>\n",
       "      <td>1.360000e+02</td>\n",
       "      <td>1.360000e+02</td>\n",
       "      <td>1.360000e+02</td>\n",
       "      <td>1.360000e+02</td>\n",
       "      <td>1.360000e+02</td>\n",
       "      <td>1.360000e+02</td>\n",
       "      <td>1.360000e+02</td>\n",
       "      <td>1.360000e+02</td>\n",
       "      <td>1.360000e+02</td>\n",
       "    </tr>\n",
       "    <tr>\n",
       "      <th>mean</th>\n",
       "      <td>-3.918434e-17</td>\n",
       "      <td>-2.612289e-17</td>\n",
       "      <td>-4.571507e-17</td>\n",
       "      <td>2.612289e-17</td>\n",
       "      <td>3.918434e-17</td>\n",
       "      <td>5.877651e-17</td>\n",
       "      <td>1.240837e-16</td>\n",
       "      <td>2.612289e-17</td>\n",
       "      <td>2.285753e-17</td>\n",
       "      <td>3.265362e-18</td>\n",
       "      <td>...</td>\n",
       "      <td>-2.285753e-17</td>\n",
       "      <td>-1.534720e-16</td>\n",
       "      <td>-6.530724e-17</td>\n",
       "      <td>-2.155139e-16</td>\n",
       "      <td>-5.510298e-16</td>\n",
       "      <td>-2.726577e-16</td>\n",
       "      <td>-2.775558e-16</td>\n",
       "      <td>8.653209e-17</td>\n",
       "      <td>-9.657308e-16</td>\n",
       "      <td>9.469549e-17</td>\n",
       "    </tr>\n",
       "    <tr>\n",
       "      <th>std</th>\n",
       "      <td>1.003697e+00</td>\n",
       "      <td>1.003697e+00</td>\n",
       "      <td>1.003697e+00</td>\n",
       "      <td>1.003697e+00</td>\n",
       "      <td>1.003697e+00</td>\n",
       "      <td>1.003697e+00</td>\n",
       "      <td>1.003697e+00</td>\n",
       "      <td>1.003697e+00</td>\n",
       "      <td>1.003697e+00</td>\n",
       "      <td>1.003697e+00</td>\n",
       "      <td>...</td>\n",
       "      <td>1.003697e+00</td>\n",
       "      <td>1.003697e+00</td>\n",
       "      <td>1.003697e+00</td>\n",
       "      <td>1.003697e+00</td>\n",
       "      <td>1.003697e+00</td>\n",
       "      <td>1.003697e+00</td>\n",
       "      <td>1.003697e+00</td>\n",
       "      <td>1.003697e+00</td>\n",
       "      <td>1.003697e+00</td>\n",
       "      <td>1.003697e+00</td>\n",
       "    </tr>\n",
       "    <tr>\n",
       "      <th>min</th>\n",
       "      <td>-1.596932e+00</td>\n",
       "      <td>-1.012039e+00</td>\n",
       "      <td>-1.220178e+00</td>\n",
       "      <td>-8.488553e-01</td>\n",
       "      <td>-9.811472e-01</td>\n",
       "      <td>-8.008531e-01</td>\n",
       "      <td>-8.385109e-01</td>\n",
       "      <td>-8.009350e-01</td>\n",
       "      <td>-9.937642e-01</td>\n",
       "      <td>-9.377389e-01</td>\n",
       "      <td>...</td>\n",
       "      <td>-9.292686e-01</td>\n",
       "      <td>-1.015919e+00</td>\n",
       "      <td>-5.733499e-01</td>\n",
       "      <td>-2.765416e+00</td>\n",
       "      <td>-2.365653e+00</td>\n",
       "      <td>-2.737507e+00</td>\n",
       "      <td>-2.052469e+00</td>\n",
       "      <td>-2.568568e+00</td>\n",
       "      <td>-2.411129e+00</td>\n",
       "      <td>-1.730950e+00</td>\n",
       "    </tr>\n",
       "    <tr>\n",
       "      <th>25%</th>\n",
       "      <td>-8.792190e-01</td>\n",
       "      <td>-6.608904e-01</td>\n",
       "      <td>-7.303574e-01</td>\n",
       "      <td>-5.510278e-01</td>\n",
       "      <td>-6.430711e-01</td>\n",
       "      <td>-5.156707e-01</td>\n",
       "      <td>-5.490878e-01</td>\n",
       "      <td>-5.160033e-01</td>\n",
       "      <td>-6.957749e-01</td>\n",
       "      <td>-6.806542e-01</td>\n",
       "      <td>...</td>\n",
       "      <td>-6.447806e-01</td>\n",
       "      <td>-7.240018e-01</td>\n",
       "      <td>-4.732558e-01</td>\n",
       "      <td>-5.762065e-01</td>\n",
       "      <td>-7.728238e-01</td>\n",
       "      <td>-8.027159e-01</td>\n",
       "      <td>-6.838734e-01</td>\n",
       "      <td>-6.022160e-01</td>\n",
       "      <td>-7.229212e-01</td>\n",
       "      <td>-7.451072e-01</td>\n",
       "    </tr>\n",
       "    <tr>\n",
       "      <th>50%</th>\n",
       "      <td>-1.075204e-01</td>\n",
       "      <td>-2.698190e-01</td>\n",
       "      <td>-2.704127e-01</td>\n",
       "      <td>-3.159486e-01</td>\n",
       "      <td>-3.830126e-01</td>\n",
       "      <td>-3.161908e-01</td>\n",
       "      <td>-3.457741e-01</td>\n",
       "      <td>-3.162802e-01</td>\n",
       "      <td>-3.879049e-01</td>\n",
       "      <td>-3.705384e-01</td>\n",
       "      <td>...</td>\n",
       "      <td>-3.751331e-01</td>\n",
       "      <td>-3.452238e-01</td>\n",
       "      <td>-3.445945e-01</td>\n",
       "      <td>1.700564e-01</td>\n",
       "      <td>-2.394022e-02</td>\n",
       "      <td>1.114191e-01</td>\n",
       "      <td>-1.144891e-01</td>\n",
       "      <td>-9.840379e-02</td>\n",
       "      <td>-9.514593e-02</td>\n",
       "      <td>-2.285470e-01</td>\n",
       "    </tr>\n",
       "    <tr>\n",
       "      <th>75%</th>\n",
       "      <td>7.027941e-01</td>\n",
       "      <td>2.634529e-01</td>\n",
       "      <td>5.702114e-01</td>\n",
       "      <td>1.392046e-01</td>\n",
       "      <td>3.971629e-01</td>\n",
       "      <td>9.606760e-02</td>\n",
       "      <td>1.158677e-01</td>\n",
       "      <td>9.547944e-02</td>\n",
       "      <td>3.919522e-01</td>\n",
       "      <td>3.499906e-01</td>\n",
       "      <td>...</td>\n",
       "      <td>3.116398e-01</td>\n",
       "      <td>4.285623e-01</td>\n",
       "      <td>-4.143403e-02</td>\n",
       "      <td>7.416599e-01</td>\n",
       "      <td>9.319774e-01</td>\n",
       "      <td>7.457925e-01</td>\n",
       "      <td>4.868733e-01</td>\n",
       "      <td>5.210746e-01</td>\n",
       "      <td>6.249202e-01</td>\n",
       "      <td>5.041847e-01</td>\n",
       "    </tr>\n",
       "    <tr>\n",
       "      <th>max</th>\n",
       "      <td>2.474848e+00</td>\n",
       "      <td>4.413576e+00</td>\n",
       "      <td>2.881985e+00</td>\n",
       "      <td>4.876709e+00</td>\n",
       "      <td>5.598333e+00</td>\n",
       "      <td>5.334262e+00</td>\n",
       "      <td>5.112602e+00</td>\n",
       "      <td>5.335071e+00</td>\n",
       "      <td>4.285936e+00</td>\n",
       "      <td>4.674318e+00</td>\n",
       "      <td>...</td>\n",
       "      <td>5.992258e+00</td>\n",
       "      <td>3.666171e+00</td>\n",
       "      <td>6.251727e+00</td>\n",
       "      <td>2.296623e+00</td>\n",
       "      <td>1.812867e+00</td>\n",
       "      <td>1.884330e+00</td>\n",
       "      <td>2.941126e+00</td>\n",
       "      <td>2.738812e+00</td>\n",
       "      <td>3.187247e+00</td>\n",
       "      <td>3.394136e+00</td>\n",
       "    </tr>\n",
       "  </tbody>\n",
       "</table>\n",
       "<p>8 rows × 22 columns</p>\n",
       "</div>"
      ],
      "text/plain": [
       "        MDVP:Fo(Hz)  MDVP:Fhi(Hz)  MDVP:Flo(Hz)  MDVP:Jitter(%)  \\\n",
       "count  1.360000e+02  1.360000e+02  1.360000e+02    1.360000e+02   \n",
       "mean  -3.918434e-17 -2.612289e-17 -4.571507e-17    2.612289e-17   \n",
       "std    1.003697e+00  1.003697e+00  1.003697e+00    1.003697e+00   \n",
       "min   -1.596932e+00 -1.012039e+00 -1.220178e+00   -8.488553e-01   \n",
       "25%   -8.792190e-01 -6.608904e-01 -7.303574e-01   -5.510278e-01   \n",
       "50%   -1.075204e-01 -2.698190e-01 -2.704127e-01   -3.159486e-01   \n",
       "75%    7.027941e-01  2.634529e-01  5.702114e-01    1.392046e-01   \n",
       "max    2.474848e+00  4.413576e+00  2.881985e+00    4.876709e+00   \n",
       "\n",
       "       MDVP:Jitter(Abs)      MDVP:RAP      MDVP:PPQ    Jitter:DDP  \\\n",
       "count      1.360000e+02  1.360000e+02  1.360000e+02  1.360000e+02   \n",
       "mean       3.918434e-17  5.877651e-17  1.240837e-16  2.612289e-17   \n",
       "std        1.003697e+00  1.003697e+00  1.003697e+00  1.003697e+00   \n",
       "min       -9.811472e-01 -8.008531e-01 -8.385109e-01 -8.009350e-01   \n",
       "25%       -6.430711e-01 -5.156707e-01 -5.490878e-01 -5.160033e-01   \n",
       "50%       -3.830126e-01 -3.161908e-01 -3.457741e-01 -3.162802e-01   \n",
       "75%        3.971629e-01  9.606760e-02  1.158677e-01  9.547944e-02   \n",
       "max        5.598333e+00  5.334262e+00  5.112602e+00  5.335071e+00   \n",
       "\n",
       "       MDVP:Shimmer  MDVP:Shimmer(dB)  ...      MDVP:APQ   Shimmer:DDA  \\\n",
       "count  1.360000e+02      1.360000e+02  ...  1.360000e+02  1.360000e+02   \n",
       "mean   2.285753e-17      3.265362e-18  ... -2.285753e-17 -1.534720e-16   \n",
       "std    1.003697e+00      1.003697e+00  ...  1.003697e+00  1.003697e+00   \n",
       "min   -9.937642e-01     -9.377389e-01  ... -9.292686e-01 -1.015919e+00   \n",
       "25%   -6.957749e-01     -6.806542e-01  ... -6.447806e-01 -7.240018e-01   \n",
       "50%   -3.879049e-01     -3.705384e-01  ... -3.751331e-01 -3.452238e-01   \n",
       "75%    3.919522e-01      3.499906e-01  ...  3.116398e-01  4.285623e-01   \n",
       "max    4.285936e+00      4.674318e+00  ...  5.992258e+00  3.666171e+00   \n",
       "\n",
       "                NHR           HNR          RPDE           DFA       spread1  \\\n",
       "count  1.360000e+02  1.360000e+02  1.360000e+02  1.360000e+02  1.360000e+02   \n",
       "mean  -6.530724e-17 -2.155139e-16 -5.510298e-16 -2.726577e-16 -2.775558e-16   \n",
       "std    1.003697e+00  1.003697e+00  1.003697e+00  1.003697e+00  1.003697e+00   \n",
       "min   -5.733499e-01 -2.765416e+00 -2.365653e+00 -2.737507e+00 -2.052469e+00   \n",
       "25%   -4.732558e-01 -5.762065e-01 -7.728238e-01 -8.027159e-01 -6.838734e-01   \n",
       "50%   -3.445945e-01  1.700564e-01 -2.394022e-02  1.114191e-01 -1.144891e-01   \n",
       "75%   -4.143403e-02  7.416599e-01  9.319774e-01  7.457925e-01  4.868733e-01   \n",
       "max    6.251727e+00  2.296623e+00  1.812867e+00  1.884330e+00  2.941126e+00   \n",
       "\n",
       "            spread2            D2           PPE  \n",
       "count  1.360000e+02  1.360000e+02  1.360000e+02  \n",
       "mean   8.653209e-17 -9.657308e-16  9.469549e-17  \n",
       "std    1.003697e+00  1.003697e+00  1.003697e+00  \n",
       "min   -2.568568e+00 -2.411129e+00 -1.730950e+00  \n",
       "25%   -6.022160e-01 -7.229212e-01 -7.451072e-01  \n",
       "50%   -9.840379e-02 -9.514593e-02 -2.285470e-01  \n",
       "75%    5.210746e-01  6.249202e-01  5.041847e-01  \n",
       "max    2.738812e+00  3.187247e+00  3.394136e+00  \n",
       "\n",
       "[8 rows x 22 columns]"
      ]
     },
     "execution_count": 37,
     "metadata": {},
     "output_type": "execute_result"
    }
   ],
   "source": [
    "X_train_scaled.describe()"
   ]
  },
  {
   "cell_type": "code",
   "execution_count": 38,
   "metadata": {
    "execution": {
     "iopub.execute_input": "2020-08-23T11:13:54.515464Z",
     "iopub.status.busy": "2020-08-23T11:13:54.512602Z",
     "iopub.status.idle": "2020-08-23T11:13:54.523683Z",
     "shell.execute_reply": "2020-08-23T11:13:54.522425Z"
    },
    "papermill": {
     "duration": 0.067816,
     "end_time": "2020-08-23T11:13:54.523877",
     "exception": false,
     "start_time": "2020-08-23T11:13:54.456061",
     "status": "completed"
    },
    "tags": []
   },
   "outputs": [
    {
     "name": "stdout",
     "output_type": "stream",
     "text": [
      "Train Accuraccy is:  24.264705882352942\n",
      "Test Accuraccy is:  25.423728813559322\n",
      "ROC Score:  77.72727272727272\n",
      "\n",
      "(None, None, None, ('Total correct: ', 51), ('Total incorrect: ', 8), ('Confusion matrix: ', array([[ 9,  6],\n",
      "       [ 2, 42]], dtype=int64)))\n"
     ]
    }
   ],
   "source": [
    "#1. Logistic regression\n",
    "\n",
    "from sklearn.linear_model import LogisticRegression\n",
    "clf_lr = LogisticRegression()\n",
    "clf_lr.fit(X_train_scaled, y_train)\n",
    "\n",
    "Y_pred_lr = clf_lr.predict(X_test_scaled)\n",
    "print(clf_scores(clf_lr, Y_pred_lr))"
   ]
  },
  {
   "cell_type": "code",
   "execution_count": 39,
   "metadata": {
    "execution": {
     "iopub.execute_input": "2020-08-23T11:13:54.585008Z",
     "iopub.status.busy": "2020-08-23T11:13:54.584314Z",
     "iopub.status.idle": "2020-08-23T11:13:54.607315Z",
     "shell.execute_reply": "2020-08-23T11:13:54.605971Z"
    },
    "papermill": {
     "duration": 0.058402,
     "end_time": "2020-08-23T11:13:54.607450",
     "exception": false,
     "start_time": "2020-08-23T11:13:54.549048",
     "status": "completed"
    },
    "tags": []
   },
   "outputs": [
    {
     "name": "stdout",
     "output_type": "stream",
     "text": [
      "Train Accuraccy is:  24.264705882352942\n",
      "Test Accuraccy is:  25.423728813559322\n",
      "ROC Score:  87.72727272727273\n",
      "\n",
      "(None, None, None, ('Total correct: ', 54), ('Total incorrect: ', 5), ('Confusion matrix: ', array([[12,  3],\n",
      "       [ 2, 42]], dtype=int64)))\n"
     ]
    }
   ],
   "source": [
    "#2. KNN\n",
    "\n",
    "from sklearn.neighbors import KNeighborsClassifier\n",
    "clf_knn = KNeighborsClassifier(n_neighbors=3)\n",
    "clf_knn.fit(X_train_scaled, y_train)\n",
    "\n",
    "Y_pred_knn = clf_knn.predict(X_test_scaled)\n",
    "print(clf_scores(clf_knn, Y_pred_knn))"
   ]
  },
  {
   "cell_type": "code",
   "execution_count": 40,
   "metadata": {
    "execution": {
     "iopub.execute_input": "2020-08-23T11:13:54.671959Z",
     "iopub.status.busy": "2020-08-23T11:13:54.667210Z",
     "iopub.status.idle": "2020-08-23T11:13:54.683670Z",
     "shell.execute_reply": "2020-08-23T11:13:54.682855Z"
    },
    "papermill": {
     "duration": 0.050987,
     "end_time": "2020-08-23T11:13:54.683801",
     "exception": false,
     "start_time": "2020-08-23T11:13:54.632814",
     "status": "completed"
    },
    "tags": []
   },
   "outputs": [
    {
     "name": "stdout",
     "output_type": "stream",
     "text": [
      "Train Accuraccy is:  24.264705882352942\n",
      "Test Accuraccy is:  25.423728813559322\n",
      "ROC Score:  77.50000000000001\n",
      "\n",
      "(None, None, None, ('Total correct: ', 45), ('Total incorrect: ', 14), ('Confusion matrix: ', array([[12,  3],\n",
      "       [11, 33]], dtype=int64)))\n"
     ]
    }
   ],
   "source": [
    "#3. Naive Bayes\n",
    "\n",
    "from sklearn.naive_bayes import GaussianNB\n",
    "clf_gnb = GaussianNB()\n",
    "clf_gnb.fit(X_train_scaled, y_train)\n",
    "\n",
    "Y_pred_gnb = clf_gnb.predict(X_test_scaled)\n",
    "print(clf_scores(clf_gnb, Y_pred_gnb))"
   ]
  },
  {
   "cell_type": "code",
   "execution_count": 41,
   "metadata": {
    "execution": {
     "iopub.execute_input": "2020-08-23T11:13:54.745249Z",
     "iopub.status.busy": "2020-08-23T11:13:54.744250Z",
     "iopub.status.idle": "2020-08-23T11:13:54.761224Z",
     "shell.execute_reply": "2020-08-23T11:13:54.760344Z"
    },
    "papermill": {
     "duration": 0.051102,
     "end_time": "2020-08-23T11:13:54.761350",
     "exception": false,
     "start_time": "2020-08-23T11:13:54.710248",
     "status": "completed"
    },
    "tags": []
   },
   "outputs": [
    {
     "name": "stdout",
     "output_type": "stream",
     "text": [
      "Train Accuraccy is:  75.73529411764706\n",
      "Test Accuraccy is:  74.57627118644068\n",
      "ROC Score:  76.66666666666666\n",
      "\n",
      "(None, None, None, ('Total correct: ', 52), ('Total incorrect: ', 7), ('Confusion matrix: ', array([[ 8,  7],\n",
      "       [ 0, 44]], dtype=int64)))\n"
     ]
    }
   ],
   "source": [
    "#4. SVM\n",
    "\n",
    "from sklearn.svm import SVC\n",
    "\n",
    "clf_svm = SVC()\n",
    "clf_svm.fit(X_train_scaled, y_train)\n",
    "\n",
    "Y_pred_svm = clf_svm.predict(X_test_scaled)\n",
    "print(clf_scores(clf_svm, Y_pred_svm))"
   ]
  },
  {
   "cell_type": "code",
   "execution_count": 43,
   "metadata": {
    "execution": {
     "iopub.execute_input": "2020-08-23T11:13:54.822634Z",
     "iopub.status.busy": "2020-08-23T11:13:54.821915Z",
     "iopub.status.idle": "2020-08-23T11:13:54.994758Z",
     "shell.execute_reply": "2020-08-23T11:13:54.993849Z"
    },
    "papermill": {
     "duration": 0.20815,
     "end_time": "2020-08-23T11:13:54.995221",
     "exception": false,
     "start_time": "2020-08-23T11:13:54.787071",
     "status": "completed"
    },
    "tags": []
   },
   "outputs": [
    {
     "name": "stdout",
     "output_type": "stream",
     "text": [
      "Train Accuraccy is:  24.264705882352942\n",
      "Test Accuraccy is:  25.423728813559322\n",
      "ROC Score:  87.72727272727273\n",
      "\n",
      "(None, None, None, ('Total correct: ', 54), ('Total incorrect: ', 5), ('Confusion matrix: ', array([[12,  3],\n",
      "       [ 2, 42]], dtype=int64))) KNN\n",
      "Train Accuraccy is:  75.73529411764706\n",
      "Test Accuraccy is:  74.57627118644068\n",
      "ROC Score:  76.66666666666666\n",
      "\n",
      "(None, None, None, ('Total correct: ', 52), ('Total incorrect: ', 7), ('Confusion matrix: ', array([[ 8,  7],\n",
      "       [ 0, 44]], dtype=int64))) SVM\n",
      "Train Accuraccy is:  24.264705882352942\n",
      "Test Accuraccy is:  25.423728813559322\n",
      "ROC Score:  77.50000000000001\n",
      "\n",
      "(None, None, None, ('Total correct: ', 45), ('Total incorrect: ', 14), ('Confusion matrix: ', array([[12,  3],\n",
      "       [11, 33]], dtype=int64))) Naive Bayes\n",
      "Train Accuraccy is:  24.264705882352942\n",
      "Test Accuraccy is:  25.423728813559322\n",
      "ROC Score:  87.72727272727273\n",
      "\n",
      "(None, None, None, ('Total correct: ', 54), ('Total incorrect: ', 5), ('Confusion matrix: ', array([[12,  3],\n",
      "       [ 2, 42]], dtype=int64))) StackingClassifier\n"
     ]
    }
   ],
   "source": [
    "#Meta-classifier\n",
    "from mlxtend.classifier import StackingClassifier\n",
    "from sklearn import model_selection\n",
    "\n",
    "lr = LogisticRegression()\n",
    "sclf = StackingClassifier(classifiers=[clf_knn, clf_svm, clf_gnb], \n",
    "                          meta_classifier=lr)\n",
    "sclf.fit(X_train_scaled, y_train)\n",
    "for clf, label in zip([clf_knn, clf_svm, clf_gnb, sclf], \n",
    "                      ['KNN', \n",
    "                       'SVM', \n",
    "                       'Naive Bayes',\n",
    "                       'StackingClassifier']):\n",
    "\n",
    "    Y_pred = clf.predict(X_test_scaled)\n",
    "    scores = clf_scores(clf, Y_pred)\n",
    "    #scores = model_selection.cross_val_score(clf, X_train_scaled, y_train, cv=5, scoring='accuracy')\n",
    "    \n",
    "    print(scores, label)"
   ]
  },
  {
   "cell_type": "markdown",
   "metadata": {
    "papermill": {
     "duration": 0.028506,
     "end_time": "2020-08-23T11:13:55.056604",
     "exception": false,
     "start_time": "2020-08-23T11:13:55.028098",
     "status": "completed"
    },
    "tags": []
   },
   "source": []
  },
  {
   "cell_type": "code",
   "execution_count": null,
   "metadata": {},
   "outputs": [],
   "source": []
  }
 ],
 "metadata": {
  "kernelspec": {
   "display_name": "Python 3",
   "language": "python",
   "name": "python3"
  },
  "language_info": {
   "codemirror_mode": {
    "name": "ipython",
    "version": 3
   },
   "file_extension": ".py",
   "mimetype": "text/x-python",
   "name": "python",
   "nbconvert_exporter": "python",
   "pygments_lexer": "ipython3",
   "version": "3.7.4"
  },
  "papermill": {
   "duration": 12.966971,
   "end_time": "2020-08-23T11:13:55.190318",
   "environment_variables": {},
   "exception": null,
   "input_path": "__notebook__.ipynb",
   "output_path": "__notebook__.ipynb",
   "parameters": {},
   "start_time": "2020-08-23T11:13:42.223347",
   "version": "2.1.0"
  }
 },
 "nbformat": 4,
 "nbformat_minor": 4
}
